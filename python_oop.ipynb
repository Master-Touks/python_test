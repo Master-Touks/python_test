{
 "cells": [
  {
   "attachments": {},
   "cell_type": "markdown",
   "metadata": {},
   "source": [
    "# Object-oriented programming"
   ]
  },
  {
   "attachments": {},
   "cell_type": "markdown",
   "metadata": {},
   "source": [
    "## Code d'exemple du cours"
   ]
  },
  {
   "cell_type": "code",
   "execution_count": 90,
   "metadata": {},
   "outputs": [],
   "source": [
    "class Voiture:\n",
    "    wheels = 4 \n",
    "    energy = 'oil'\n",
    "    nb_door = 4\n",
    "    nb_place = 4\n",
    "\n",
    "    def __init__(self, brand:str, model:str, distance:float=0, control:bool=True):\n",
    "        self.brand = brand\n",
    "        self.model = model\n",
    "        self.distance = distance\n",
    "        self.control = control\n",
    "\n",
    "\n",
    "    def passenger(self, driver, copilot=None, passenger_1=None, passenger_2=None):\n",
    "        self.driver = driver\n",
    "        self.copilot = copilot\n",
    "        self.passenger1 = passenger_1\n",
    "        self.passenger2 = passenger_2\n",
    "\n",
    "\n",
    "    def input_code_pin_user(self, password:str='0000') -> bool:\n",
    "        input_user = input('Please enter your password')\n",
    "\n",
    "        tentative = 3\n",
    "\n",
    "        while input_user != password and tentative > 0:\n",
    "\n",
    "            if input_user == 'exit':\n",
    "                return False\n",
    "\n",
    "            tentative -=1\n",
    "            print('Tentatives restantes : {}'.format(tentative))\n",
    "\n",
    "            try:\n",
    "                int(input_user)\n",
    "                print('Wrong Password')\n",
    "                input_user = input('Please enter your password')\n",
    "                \n",
    "            except:\n",
    "                print('Wrong input, please entre numbers')\n",
    "                input_user = input('Please enter your password')\n",
    "\n",
    "        if input_user == password:\n",
    "            print('Successful connection')\n",
    "            return True\n",
    "        else:\n",
    "            print('Connexion denied')\n",
    "            return False\n",
    "\n",
    "\n",
    "    def driving(self, depart:str, destination:str, miles:float): \n",
    "        try:\n",
    "            self.driver\n",
    "            if self.input_code_pin_user():            \n",
    "                self.distance += miles\n",
    "                print(\"I'm driving !\", True)\n",
    "\n",
    "                if self.distance > 5000:\n",
    "                    self.control = False\n",
    "\n",
    "        except:\n",
    "            print('There is no driver')"
   ]
  },
  {
   "attachments": {},
   "cell_type": "markdown",
   "metadata": {},
   "source": [
    "## Notes perso"
   ]
  },
  {
   "cell_type": "code",
   "execution_count": 75,
   "metadata": {},
   "outputs": [],
   "source": [
    "class Voiture:\n",
    "    # wheel, enery, nb_door, nb_place are attributes\n",
    "    wheels = 4\n",
    "    energy = 'oil'\n",
    "    nb_door = 4\n",
    "    nb_place = 4\n",
    "\n",
    "    def __init__(self, brand:str, model:str, distance:float=0, control:bool=True):\n",
    "        self.brand = brand\n",
    "        self.model = model\n",
    "        self.distance = distance\n",
    "        self.control = control\n",
    "\n",
    "    def passenger(self, driver, copilot=None, passenger_1=None, passenger_2=None):\n",
    "        self.driver = driver\n",
    "        self.copilot = copilot\n",
    "        self.passenger_1 = passenger_1\n",
    "        self.passenger_2 = passenger_2\n",
    "\n",
    "    def driving(self, depart:str, destination:str, miles:float):\n",
    "        \n",
    "        try:\n",
    "            self.driver\n",
    "            self.distance += miles\n",
    "            print(\"I'm driving !\", True)\n",
    "\n",
    "            if self.distance > 50000:\n",
    "                self.control = False\n",
    "        except:\n",
    "            print(\"There is no driver\")\n",
    "\n",
    "            \n",
    "        "
   ]
  },
  {
   "attachments": {},
   "cell_type": "markdown",
   "metadata": {},
   "source": [
    "`driving()` est une méthode dans le class  `Voiture`"
   ]
  },
  {
   "attachments": {},
   "cell_type": "markdown",
   "metadata": {},
   "source": [
    "La fonction `__init__` donne les attributs à renseigner pour créer une instance de la classe `Voiture`"
   ]
  },
  {
   "attachments": {},
   "cell_type": "markdown",
   "metadata": {},
   "source": [
    "`voiture1` et `voiture2` sont des instances de la classe voiture "
   ]
  },
  {
   "attachments": {},
   "cell_type": "markdown",
   "metadata": {},
   "source": [
    "`wheels`, `energy`, `nb_door`, `nb_place` sont des attributs avec des valeurs par défautls "
   ]
  },
  {
   "attachments": {},
   "cell_type": "markdown",
   "metadata": {},
   "source": [
    "`passenger` et `driving` sont des méthodes de la classe `Voiture`"
   ]
  },
  {
   "cell_type": "code",
   "execution_count": 77,
   "metadata": {},
   "outputs": [],
   "source": [
    "voiture1 = Voiture('Mercedes', 'Classe A', 200000, True)"
   ]
  },
  {
   "cell_type": "code",
   "execution_count": 78,
   "metadata": {},
   "outputs": [],
   "source": [
    "voiture1.passenger('Tuka')"
   ]
  },
  {
   "cell_type": "code",
   "execution_count": 79,
   "metadata": {},
   "outputs": [
    {
     "data": {
      "text/plain": [
       "'Tuka'"
      ]
     },
     "execution_count": 79,
     "metadata": {},
     "output_type": "execute_result"
    }
   ],
   "source": [
    "voiture1.driver"
   ]
  },
  {
   "cell_type": "code",
   "execution_count": 80,
   "metadata": {},
   "outputs": [],
   "source": [
    "voiture1.copilot"
   ]
  },
  {
   "cell_type": "code",
   "execution_count": 82,
   "metadata": {},
   "outputs": [
    {
     "name": "stdout",
     "output_type": "stream",
     "text": [
      "I'm driving ! True\n",
      "There is no driver\n"
     ]
    }
   ],
   "source": [
    "voiture1.driving('Paris', 'Nice', 1000)"
   ]
  },
  {
   "attachments": {},
   "cell_type": "markdown",
   "metadata": {},
   "source": [
    "## Heritage"
   ]
  },
  {
   "cell_type": "code",
   "execution_count": 92,
   "metadata": {},
   "outputs": [],
   "source": [
    "class Peugeot306(Voiture):\n",
    "    def __init__(self, distance, control, color):\n",
    "        Voiture.__init__(self, 'Peugeot', '306', distance, control)\n",
    "        self.color = color\n",
    "    "
   ]
  },
  {
   "cell_type": "code",
   "execution_count": 89,
   "metadata": {},
   "outputs": [],
   "source": [
    "voiture_306 = Peugeot306()"
   ]
  },
  {
   "cell_type": "code",
   "execution_count": 91,
   "metadata": {},
   "outputs": [],
   "source": [
    "voiture_306.passenger('Tuka', 'Laura')"
   ]
  },
  {
   "cell_type": "code",
   "execution_count": 94,
   "metadata": {},
   "outputs": [
    {
     "data": {
      "text/plain": [
       "('Tuka', 'Laura')"
      ]
     },
     "execution_count": 94,
     "metadata": {},
     "output_type": "execute_result"
    }
   ],
   "source": [
    "voiture_306.driver, voiture_306.copilot"
   ]
  },
  {
   "cell_type": "code",
   "execution_count": null,
   "metadata": {},
   "outputs": [],
   "source": []
  }
 ],
 "metadata": {
  "kernelspec": {
   "display_name": "Python 3",
   "language": "python",
   "name": "python3"
  },
  "language_info": {
   "codemirror_mode": {
    "name": "ipython",
    "version": 3
   },
   "file_extension": ".py",
   "mimetype": "text/x-python",
   "name": "python",
   "nbconvert_exporter": "python",
   "pygments_lexer": "ipython3",
   "version": "3.9.7 (default, Sep 16 2021, 08:50:36) \n[Clang 10.0.0 ]"
  },
  "orig_nbformat": 4,
  "vscode": {
   "interpreter": {
    "hash": "40d3a090f54c6569ab1632332b64b2c03c39dcf918b08424e98f38b5ae0af88f"
   }
  }
 },
 "nbformat": 4,
 "nbformat_minor": 2
}
